{
  "nbformat": 4,
  "nbformat_minor": 0,
  "metadata": {
    "colab": {
      "provenance": [],
      "authorship_tag": "ABX9TyOH13IAC4JQDflXUhD3c98s",
      "include_colab_link": true
    },
    "kernelspec": {
      "name": "python3",
      "display_name": "Python 3"
    },
    "language_info": {
      "name": "python"
    }
  },
  "cells": [
    {
      "cell_type": "markdown",
      "metadata": {
        "id": "view-in-github",
        "colab_type": "text"
      },
      "source": [
        "<a href=\"https://colab.research.google.com/github/mohitraosatya/neuromorphic_Audio_Analysis./blob/main/homeostatic_model.ipynb\" target=\"_parent\"><img src=\"https://colab.research.google.com/assets/colab-badge.svg\" alt=\"Open In Colab\"/></a>"
      ]
    },
    {
      "cell_type": "code",
      "source": [
        "# Install required packages\n",
        "!pip install -q torchaudio spikingjelly matplotlib librosa ipywidgets\n"
      ],
      "metadata": {
        "colab": {
          "base_uri": "https://localhost:8080/"
        },
        "id": "t3wvilyemiH4",
        "outputId": "b2bf0fac-e30c-4a3e-83d2-83dc3fdfe16c"
      },
      "execution_count": null,
      "outputs": [
        {
          "output_type": "stream",
          "name": "stdout",
          "text": [
            "\u001b[2K   \u001b[90m━━━━━━━━━━━━━━━━━━━━━━━━━━━━━━━━━━━━━━━━\u001b[0m \u001b[32m363.4/363.4 MB\u001b[0m \u001b[31m1.5 MB/s\u001b[0m eta \u001b[36m0:00:00\u001b[0m\n",
            "\u001b[2K   \u001b[90m━━━━━━━━━━━━━━━━━━━━━━━━━━━━━━━━━━━━━━━━\u001b[0m \u001b[32m13.8/13.8 MB\u001b[0m \u001b[31m57.6 MB/s\u001b[0m eta \u001b[36m0:00:00\u001b[0m\n",
            "\u001b[2K   \u001b[90m━━━━━━━━━━━━━━━━━━━━━━━━━━━━━━━━━━━━━━━━\u001b[0m \u001b[32m24.6/24.6 MB\u001b[0m \u001b[31m44.9 MB/s\u001b[0m eta \u001b[36m0:00:00\u001b[0m\n",
            "\u001b[2K   \u001b[90m━━━━━━━━━━━━━━━━━━━━━━━━━━━━━━━━━━━━━━━━\u001b[0m \u001b[32m883.7/883.7 kB\u001b[0m \u001b[31m27.7 MB/s\u001b[0m eta \u001b[36m0:00:00\u001b[0m\n",
            "\u001b[2K   \u001b[90m━━━━━━━━━━━━━━━━━━━━━━━━━━━━━━━━━━━━━━━━\u001b[0m \u001b[32m664.8/664.8 MB\u001b[0m \u001b[31m2.7 MB/s\u001b[0m eta \u001b[36m0:00:00\u001b[0m\n",
            "\u001b[2K   \u001b[90m━━━━━━━━━━━━━━━━━━━━━━━━━━━━━━━━━━━━━━━━\u001b[0m \u001b[32m211.5/211.5 MB\u001b[0m \u001b[31m6.3 MB/s\u001b[0m eta \u001b[36m0:00:00\u001b[0m\n",
            "\u001b[2K   \u001b[90m━━━━━━━━━━━━━━━━━━━━━━━━━━━━━━━━━━━━━━━━\u001b[0m \u001b[32m56.3/56.3 MB\u001b[0m \u001b[31m12.7 MB/s\u001b[0m eta \u001b[36m0:00:00\u001b[0m\n",
            "\u001b[2K   \u001b[90m━━━━━━━━━━━━━━━━━━━━━━━━━━━━━━━━━━━━━━━━\u001b[0m \u001b[32m127.9/127.9 MB\u001b[0m \u001b[31m6.9 MB/s\u001b[0m eta \u001b[36m0:00:00\u001b[0m\n",
            "\u001b[2K   \u001b[90m━━━━━━━━━━━━━━━━━━━━━━━━━━━━━━━━━━━━━━━━\u001b[0m \u001b[32m207.5/207.5 MB\u001b[0m \u001b[31m4.6 MB/s\u001b[0m eta \u001b[36m0:00:00\u001b[0m\n",
            "\u001b[2K   \u001b[90m━━━━━━━━━━━━━━━━━━━━━━━━━━━━━━━━━━━━━━━━\u001b[0m \u001b[32m21.1/21.1 MB\u001b[0m \u001b[31m40.4 MB/s\u001b[0m eta \u001b[36m0:00:00\u001b[0m\n",
            "\u001b[2K   \u001b[90m━━━━━━━━━━━━━━━━━━━━━━━━━━━━━━━━━━━━━━━━\u001b[0m \u001b[32m437.6/437.6 kB\u001b[0m \u001b[31m19.7 MB/s\u001b[0m eta \u001b[36m0:00:00\u001b[0m\n",
            "\u001b[2K   \u001b[90m━━━━━━━━━━━━━━━━━━━━━━━━━━━━━━━━━━━━━━━━\u001b[0m \u001b[32m1.6/1.6 MB\u001b[0m \u001b[31m43.0 MB/s\u001b[0m eta \u001b[36m0:00:00\u001b[0m\n",
            "\u001b[?25h"
          ]
        }
      ]
    },
    {
      "cell_type": "code",
      "source": [
        "# Install required libraries (if not already installed)\n",
        "!pip install torch torchvision torchaudio --quiet\n",
        "!pip install matplotlib librosa --quiet\n"
      ],
      "metadata": {
        "id": "gt8P5g4x1KTr"
      },
      "execution_count": null,
      "outputs": []
    },
    {
      "cell_type": "code",
      "source": [
        "# === 1) Install dependencies (run once) ===\n",
        "!pip install --quiet torch torchvision torchaudio matplotlib\n",
        "\n",
        "# === 2) Imports ===\n",
        "import os\n",
        "import torch\n",
        "import numpy as np\n",
        "import matplotlib.pyplot as plt\n",
        "import torchaudio\n",
        "import torchaudio.transforms as T\n",
        "import torch.nn as nn\n",
        "import torch.nn.functional as F\n",
        "from torchaudio.datasets import YESNO\n",
        "from torch.utils.data import DataLoader\n",
        "\n",
        "# === 3) Homeostatic Cochlea Demo ===\n",
        "def demo_homeostatic():\n",
        "    wav, sr = torchaudio.load(torchaudio.utils.download_asset(\"tutorial-assets/steam-train-whistle-daniel_simon.wav\"))\n",
        "    wav = wav.mean(dim=0, keepdim=True)\n",
        "    wav = T.Resample(orig_freq=sr, new_freq=16000)(wav)\n",
        "\n",
        "    mel = T.MelSpectrogram(sample_rate=16000, n_mels=16)(wav)\n",
        "    db  = T.AmplitudeToDB()(mel).squeeze(0).numpy()  # [16, frames]\n",
        "\n",
        "    norm = (db - db.min())/(db.max() - db.min())\n",
        "\n",
        "    # Baseline\n",
        "    thr0 = 0.5\n",
        "    spikes0 = norm > thr0\n",
        "    rates0  = spikes0.mean(axis=1)\n",
        "    cv0     = np.std(rates0)/rates0.mean()*100\n",
        "\n",
        "    # Homeostatic one-step\n",
        "    target = rates0.mean()\n",
        "    thr1   = thr0 + 0.5*(rates0 - target)\n",
        "    thr1   = np.clip(thr1, 0, 1)\n",
        "    spikes1= norm > thr1[:,None]\n",
        "    rates1 = spikes1.mean(axis=1)\n",
        "    cv1    = np.std(rates1)/rates1.mean()*100\n",
        "\n",
        "    print(f\"Baseline CV: {cv0:.2f}%\")\n",
        "    print(f\"Adaptive CV: {cv1:.2f}%\")\n",
        "    print(f\"Reduction in CV: {(cv0-cv1)/cv0*100:.2f}%\")\n",
        "\n",
        "    ch = np.arange(len(rates0))\n",
        "    plt.figure(figsize=(6,3))\n",
        "    plt.bar(ch-0.2, rates0, width=0.4, label=\"Baseline\")\n",
        "    plt.bar(ch+0.2, rates1, width=0.4, label=\"Homeostatic\")\n",
        "    plt.xlabel(\"Channel\"); plt.ylabel(\"Spike Rate\")\n",
        "    plt.legend(); plt.tight_layout(); plt.show()\n",
        "\n",
        "# === 4) SNN classifier (average over channels → Linear(n_frames,2)) ===\n",
        "class SimpleSNN(nn.Module):\n",
        "    def __init__(self, in_features, out_features=2): # Set default out_features to 2\n",
        "        super().__init__()\n",
        "        self.fc = nn.Linear(in_features, out_features)  # Use in_features for input size\n",
        "    def forward(self, x):\n",
        "        # x: [batch, channels, frames]\n",
        "        x = x.mean(dim=1)            # → [batch, frames]\n",
        "        return F.log_softmax(self.fc(x), dim=1)\n",
        "\n",
        "# define mel32 and db32\n",
        "mel32 = T.MelSpectrogram(sample_rate=16000, n_mels=32)\n",
        "db32 = T.AmplitudeToDB()\n",
        "\n",
        "def baseline_pipeline(wav, sr, model=None):\n",
        "    if sr != 16000:\n",
        "        wav = T.Resample(orig_freq=sr, new_freq=16000)(wav)\n",
        "    m = mel32(wav)               # [1,32,frames]\n",
        "    d = db32(m).squeeze(0)       # [32,frames]\n",
        "    thr = d.mean()\n",
        "    spikes = (d > thr).float().unsqueeze(0)  # [1,32,frames]\n",
        "    # sum over mel channels to get a shape of [batch_size, n_frames]\n",
        "    spikes = spikes.sum(dim=1) # [1, frames]\n",
        "    n_frames = spikes.size(1)\n",
        "    if model is None:\n",
        "        model = SimpleSNN(n_frames) # Pass n_frames as in_features to SimpleSNN\n",
        "    return model, model(spikes)\n",
        "\n",
        "\n",
        "def adaptive_pipeline(wav, sr, model=None):\n",
        "    if sr != 16000:\n",
        "        wav = T.Resample(orig_freq=sr, new_freq=16000)(wav)\n",
        "    m = mel32(wav)\n",
        "    d = db32(m).squeeze(0)\n",
        "    # Homeostatic threshold\n",
        "    rates = (d > d.mean()).float().mean(dim=1)   # [32]\n",
        "    thr   = d.mean() + 0.5*(rates.mean()-rates)[:,None]\n",
        "    thr   = thr.clamp(d.min(), d.max())\n",
        "    spikes= (d > thr).float().unsqueeze(0)\n",
        "    # sum over mel channels to get a shape of [batch_size, n_frames]\n",
        "    spikes = spikes.sum(dim=1) # [1, frames]\n",
        "    n_frames = spikes.size(1)\n",
        "    if model is None:\n",
        "        model = SimpleSNN(n_frames) # Pass n_frames as in_features to SimpleSNN\n",
        "    return model, model(spikes)\n",
        "\n",
        "\n",
        "# === 7) Run both ===\n",
        "if __name__==\"__main__\":\n",
        "    print(\"=== Homeostatic Cochlea Demo ===\")\n",
        "    demo_homeostatic()\n",
        ""
      ],
      "metadata": {
        "colab": {
          "base_uri": "https://localhost:8080/",
          "height": 568
        },
        "id": "pUnIB4vFu9Ju",
        "outputId": "34fe41dc-b2b2-4229-9930-527be9528868"
      },
      "execution_count": 1,
      "outputs": [
        {
          "output_type": "stream",
          "name": "stdout",
          "text": [
            "\u001b[2K   \u001b[90m━━━━━━━━━━━━━━━━━━━━━━━━━━━━━━━━━━━━━━━━\u001b[0m \u001b[32m363.4/363.4 MB\u001b[0m \u001b[31m2.4 MB/s\u001b[0m eta \u001b[36m0:00:00\u001b[0m\n",
            "\u001b[2K   \u001b[90m━━━━━━━━━━━━━━━━━━━━━━━━━━━━━━━━━━━━━━━━\u001b[0m \u001b[32m13.8/13.8 MB\u001b[0m \u001b[31m21.0 MB/s\u001b[0m eta \u001b[36m0:00:00\u001b[0m\n",
            "\u001b[2K   \u001b[90m━━━━━━━━━━━━━━━━━━━━━━━━━━━━━━━━━━━━━━━━\u001b[0m \u001b[32m24.6/24.6 MB\u001b[0m \u001b[31m25.2 MB/s\u001b[0m eta \u001b[36m0:00:00\u001b[0m\n",
            "\u001b[2K   \u001b[90m━━━━━━━━━━━━━━━━━━━━━━━━━━━━━━━━━━━━━━━━\u001b[0m \u001b[32m883.7/883.7 kB\u001b[0m \u001b[31m13.1 MB/s\u001b[0m eta \u001b[36m0:00:00\u001b[0m\n",
            "\u001b[2K   \u001b[90m━━━━━━━━━━━━━━━━━━━━━━━━━━━━━━━━━━━━━━━━\u001b[0m \u001b[32m664.8/664.8 MB\u001b[0m \u001b[31m2.2 MB/s\u001b[0m eta \u001b[36m0:00:00\u001b[0m\n",
            "\u001b[2K   \u001b[90m━━━━━━━━━━━━━━━━━━━━━━━━━━━━━━━━━━━━━━━━\u001b[0m \u001b[32m211.5/211.5 MB\u001b[0m \u001b[31m6.1 MB/s\u001b[0m eta \u001b[36m0:00:00\u001b[0m\n",
            "\u001b[2K   \u001b[90m━━━━━━━━━━━━━━━━━━━━━━━━━━━━━━━━━━━━━━━━\u001b[0m \u001b[32m56.3/56.3 MB\u001b[0m \u001b[31m9.2 MB/s\u001b[0m eta \u001b[36m0:00:00\u001b[0m\n",
            "\u001b[2K   \u001b[90m━━━━━━━━━━━━━━━━━━━━━━━━━━━━━━━━━━━━━━━━\u001b[0m \u001b[32m127.9/127.9 MB\u001b[0m \u001b[31m5.5 MB/s\u001b[0m eta \u001b[36m0:00:00\u001b[0m\n",
            "\u001b[2K   \u001b[90m━━━━━━━━━━━━━━━━━━━━━━━━━━━━━━━━━━━━━━━━\u001b[0m \u001b[32m207.5/207.5 MB\u001b[0m \u001b[31m5.9 MB/s\u001b[0m eta \u001b[36m0:00:00\u001b[0m\n",
            "\u001b[2K   \u001b[90m━━━━━━━━━━━━━━━━━━━━━━━━━━━━━━━━━━━━━━━━\u001b[0m \u001b[32m21.1/21.1 MB\u001b[0m \u001b[31m18.6 MB/s\u001b[0m eta \u001b[36m0:00:00\u001b[0m\n",
            "\u001b[?25h=== Homeostatic Cochlea Demo ===\n"
          ]
        },
        {
          "output_type": "stream",
          "name": "stderr",
          "text": [
            "100%|██████████| 427k/427k [00:00<00:00, 13.7MB/s]\n"
          ]
        },
        {
          "output_type": "stream",
          "name": "stdout",
          "text": [
            "Baseline CV: 18.61%\n",
            "Adaptive CV: 8.62%\n",
            "Reduction in CV: 53.66%\n"
          ]
        },
        {
          "output_type": "display_data",
          "data": {
            "text/plain": [
              "<Figure size 600x300 with 1 Axes>"
            ],
            "image/png": "[encoded data removed]"
          },
          "metadata": {}
        }
      ]
    }
  ]
}